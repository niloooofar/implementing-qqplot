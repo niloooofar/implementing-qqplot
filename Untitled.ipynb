{
 "cells": [
  {
   "cell_type": "markdown",
   "id": "perceived-horizontal",
   "metadata": {},
   "source": [
    "با این روش نرمال بودن ویژگی های زیر را بررسی نمایید(داده‌های ورودی پیش از داده‌شدن به نمودار نرمال‌سازی شوند):\n",
    "\n",
    "    SalePrice\n",
    "    GrLivArea\n",
    "    TotalBsmtSF\n",
    "    \n",
    "    در این تمرین می‌بایست، ابتدا ستونی از داده که معین می‌شود، نرمال‌سازی شود. سپس نمودار scatter را بکشید و میزان شباهت آن را با نمودار y=xy=xy=x مقایسه کنید.\n"
   ]
  },
  {
   "cell_type": "markdown",
   "id": "geological-evaluation",
   "metadata": {},
   "source": [
    "    normal = np.random.normal(0, 1, 20000)\n",
    "    percs = np.linspace(0, 100, 70)\n",
    "    qn_normal = np.percentile(normal, percs)\n",
    "    \n",
    "    نمودار qq در واقع چندک های دو تا توزیع رو بر هم رسم میکنه و اینجا طراح تصمیم گرفته که هفتاد تا از صدک ها رو از توزیع نرمال رندوم گرفته و شما باید این کار رو برای توزیع نرمال موجود هم انجام بدین."
   ]
  },
  {
   "cell_type": "code",
   "execution_count": 3,
   "id": "focused-optimum",
   "metadata": {},
   "outputs": [
    {
     "data": {
      "image/png": "[encoded data removed]",
      "text/plain": [
       "<Figure size 432x288 with 1 Axes>"
      ]
     },
     "metadata": {
      "needs_background": "light"
     },
     "output_type": "display_data"
    }
   ],
   "source": [
    "import matplotlib\n",
    "import matplotlib.pyplot as plt\n",
    "import numpy as np\n",
    "import pandas as pd\n",
    "\n",
    "\n",
    "\n",
    "def show_plot(column, path=None):\n",
    "#     df_train = pd.read_csv('data/train.csv')\n",
    "    df_train = pd.read_csv('train.csv')\n",
    "\n",
    "    dft = df_train[column]\n",
    "    data = dft.values\n",
    "    mu = np.mean(data)\n",
    "    std = np.std(data)\n",
    "    normalized_data = ( data - mu ) /std\n",
    "\n",
    "    plt.clf()\n",
    "\n",
    "    normal = np.random.normal(0, 1, 20000)\n",
    "    percs = np.linspace(0, 100, 70)\n",
    "    qn_normal = np.percentile(normal, percs)\n",
    "\n",
    "    data = np.array(dft)\n",
    "    qn_data = np.percentile(normalized_data, percs)\n",
    "\n",
    "    # TODO\n",
    "    plt.scatter(qn_normal, qn_data)\n",
    "    \n",
    "    x = np.linspace(np.min((qn_normal.min(), qn_data.min())), np.max((qn_normal.max(), qn_data.max())))\n",
    "    plt.plot(x, x, color=\"k\", ls=\"--\")\n",
    "        \n",
    "    if path:\n",
    "        plt.savefig(path)\n",
    "\n",
    "        \n",
    "show_plot(\"TotalBsmtSF\", path=\"hi2.png\")"
   ]
  },
  {
   "cell_type": "code",
   "execution_count": null,
   "id": "composite-buffalo",
   "metadata": {},
   "outputs": [],
   "source": []
  }
 ],
 "metadata": {
  "kernelspec": {
   "display_name": "Python 3",
   "language": "python",
   "name": "python3"
  },
  "language_info": {
   "codemirror_mode": {
    "name": "ipython",
    "version": 3
   },
   "file_extension": ".py",
   "mimetype": "text/x-python",
   "name": "python",
   "nbconvert_exporter": "python",
   "pygments_lexer": "ipython3",
   "version": "3.9.1"
  }
 },
 "nbformat": 4,
 "nbformat_minor": 5
}
